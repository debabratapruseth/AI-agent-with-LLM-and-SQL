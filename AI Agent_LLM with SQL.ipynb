{
  "nbformat": 4,
  "nbformat_minor": 0,
  "metadata": {
    "colab": {
      "provenance": [],
      "machine_shape": "hm"
    },
    "kernelspec": {
      "name": "python3",
      "display_name": "Python 3"
    },
    "language_info": {
      "name": "python"
    }
  },
  "cells": [
    {
      "cell_type": "markdown",
      "source": [
        "# Build an agent that converts natural language queries into SQL, executes them, and returns formatted results.\n"
      ],
      "metadata": {
        "id": "KzaMCxnso00W"
      }
    },
    {
      "cell_type": "markdown",
      "source": [
        "# Import Required Libraries & Get API Key"
      ],
      "metadata": {
        "id": "Pt4E4XAoogLp"
      }
    },
    {
      "cell_type": "code",
      "execution_count": 30,
      "metadata": {
        "id": "_a1H8TQsoadu"
      },
      "outputs": [],
      "source": [
        "import os            # For accessing environment variables like API keys\n",
        "import sqlite3       # For creating and interacting with an SQLite database\n",
        "import requests      # To make HTTP requests to the OpenAI API\n",
        "import json          # To format and parse request/response data\n",
        "\n",
        "# Get OpenAI API key stored securely in Colab (Runtime > Secrets > OPENAI_API_KEY). Note, I have used Colab to run this code.\n",
        "OPENAI_API_KEY = os.environ.get(\"OPENAI_API_KEY\")"
      ]
    },
    {
      "cell_type": "markdown",
      "source": [
        "# Set Up the Sample Student Database\n",
        "\n",
        "## In real life scenario, you will need to integrate the code (via API) to an existing database"
      ],
      "metadata": {
        "id": "_3LQF9vgpHOv"
      }
    },
    {
      "cell_type": "code",
      "source": [
        "# This function creates a local SQLite database named 'school.db' and a table called 'students'\n",
        "def setup_database():\n",
        "    conn = sqlite3.connect('school.db')       # Connect to or create the SQLite database file\n",
        "    cursor = conn.cursor()                    # Create a cursor object to execute SQL commands\n",
        "\n",
        "    # Create the students table if it doesn't already exist\n",
        "    cursor.execute('''\n",
        "        CREATE TABLE IF NOT EXISTS students (\n",
        "            roll_number INTEGER PRIMARY KEY,\n",
        "            name TEXT,\n",
        "            department TEXT,\n",
        "            grade REAL,\n",
        "            attendance_percent REAL,\n",
        "            graduation_year INTEGER\n",
        "        )\n",
        "    ''')\n",
        "\n",
        "    # Add 5 sample student records\n",
        "    sample_data = [\n",
        "        (1, 'Alice Johnson', 'Science', 88.5, 92.0, 2026),\n",
        "        (2, 'Bob Lee', 'Arts', 76.0, 85.5, 2025),\n",
        "        (3, 'Carlos Patel', 'Engineering', 91.2, 98.0, 2026),\n",
        "        (4, 'Diana Rose', 'Science', 67.8, 73.2, 2024),\n",
        "        (5, 'Eva Green', 'Engineering', 82.0, 89.9, 2025)\n",
        "    ]\n",
        "\n",
        "    # Insert data into the students table (IGNORE skips if already present)\n",
        "    cursor.executemany(\"INSERT OR IGNORE INTO students VALUES (?, ?, ?, ?, ?, ?)\", sample_data)\n",
        "\n",
        "    conn.commit()     # Save the changes to the database\n",
        "    conn.close()      # Close the connection\n",
        "\n",
        "# Run the function once to initialize the database\n",
        "setup_database()\n",
        "print(\"✅ Student database created.\")\n"
      ],
      "metadata": {
        "colab": {
          "base_uri": "https://localhost:8080/"
        },
        "id": "qllZ6K5-pCNi",
        "outputId": "2acfc27d-40c2-418a-9608-8a1adb22e951"
      },
      "execution_count": 31,
      "outputs": [
        {
          "output_type": "stream",
          "name": "stdout",
          "text": [
            "✅ Student database created.\n"
          ]
        }
      ]
    },
    {
      "cell_type": "markdown",
      "source": [
        "# Define the Database Schema for the LLM"
      ],
      "metadata": {
        "id": "aqjsqocSq94e"
      }
    },
    {
      "cell_type": "code",
      "source": [
        "# This function returns a description of the 'students' table for GPT-4 to understand\n",
        "def get_schema():\n",
        "    return \"\"\"\n",
        "    Table: students\n",
        "    Columns:\n",
        "    - roll_number (INTEGER PRIMARY KEY)\n",
        "    - name (TEXT)\n",
        "    - department (TEXT)\n",
        "    - grade (REAL)\n",
        "    - attendance_percent (REAL)\n",
        "    - graduation_year (INTEGER)\n",
        "    \"\"\"\n"
      ],
      "metadata": {
        "id": "ohkj5OAopm1X"
      },
      "execution_count": 32,
      "outputs": []
    },
    {
      "cell_type": "markdown",
      "source": [
        "# Call LLM GPT-4 API to Generate SQL"
      ],
      "metadata": {
        "id": "_wl0GNG2Fl1Q"
      }
    },
    {
      "cell_type": "code",
      "source": [
        "# This function sends a prompt to GPT-4 and gets back an SQL query\n",
        "def call_openai_gpt4(prompt):\n",
        "    url = \"https://api.openai.com/v1/chat/completions\"  # OpenAI endpoint for chat models\n",
        "\n",
        "    # Set the HTTP headers including authorization\n",
        "    headers = {\n",
        "        \"Authorization\": f\"Bearer {OPENAI_API_KEY}\",      # API key for access\n",
        "        \"Content-Type\": \"application/json\"                # Body will be JSON format\n",
        "    }\n",
        "\n",
        "    # Create the full prompt using schema + question\n",
        "    payload = {\n",
        "        \"model\": \"gpt-4\",                                # GPT-4 model for better results\n",
        "        \"messages\": [\n",
        "            {\n",
        "                \"role\": \"system\",\n",
        "                \"content\": f\"You are a helpful SQL assistant. Use this schema:\\n{get_schema()}\\nReturn only the SQL query with no explanations.\"\n",
        "            },\n",
        "            {\n",
        "                \"role\": \"user\",\n",
        "                \"content\": prompt                         # e.g., \"Generate SQL for: Who is graduating in 2025?\"\n",
        "            }\n",
        "        ],\n",
        "        \"temperature\": 0                                  # More deterministic output (less randomness)\n",
        "    }\n",
        "\n",
        "    # Send request to OpenAI API\n",
        "    response = requests.post(url, headers=headers, data=json.dumps(payload))\n",
        "\n",
        "    # If request was successful, extract the SQL query from the response\n",
        "    if response.status_code == 200:\n",
        "        result = response.json()\n",
        "        return result['choices'][0]['message']['content'].strip()\n",
        "    else:\n",
        "        # Raise error if the request failed\n",
        "        raise Exception(f\"OpenAI API error: {response.status_code} - {response.text}\")\n"
      ],
      "metadata": {
        "id": "c10kZPLcqEOj"
      },
      "execution_count": 33,
      "outputs": []
    },
    {
      "cell_type": "markdown",
      "source": [
        "# Implementing Query Execution\n",
        "\n",
        "Breakdown of Functions\n",
        "\n",
        "1) validate_sql(sql)\n",
        "Blocks dangerous operations like DROP, DELETE, UPDATE, INSERT\n",
        "\n",
        "2) execute_query(sql)\n",
        "Connects to your local SQLite student.db\n",
        "\n",
        "Executes the (validated) SQL query\n",
        "\n",
        "Returns results as a list of rows\n",
        "\n",
        "3) format_results(results)\n",
        "Handles:\n",
        "\n",
        "Errors or no results\n",
        "\n",
        "Single-column results as plain list\n",
        "\n",
        "Multi-column results formatted nicely with spacing\n",
        "\n",
        "Smart formatting for currency (salary, budget)"
      ],
      "metadata": {
        "id": "JQzpzTKcrnrP"
      }
    },
    {
      "cell_type": "code",
      "source": [
        "# Block potentially dangerous SQL commands like DELETE, DROP, etc.\n",
        "def validate_sql(sql):\n",
        "    sql_lower = sql.lower()  # Convert SQL to lowercase for easier checking\n",
        "    if any(cmd in sql_lower for cmd in ['drop', 'delete', 'update', 'insert']):\n",
        "        raise ValueError(\"❌ Unsafe query blocked. Only SELECT statements are allowed.\")\n",
        "    return sql"
      ],
      "metadata": {
        "id": "X_e0a9o4CsG1"
      },
      "execution_count": 34,
      "outputs": []
    },
    {
      "cell_type": "code",
      "source": [
        "# This function executes a safe SQL query and returns the results\n",
        "def execute_query(sql):\n",
        "    sql = validate_sql(sql)              # Check for safety\n",
        "    conn = sqlite3.connect('school.db')  # Connect to the database\n",
        "    try:\n",
        "        cursor = conn.cursor()\n",
        "        cursor.execute(sql)              # Run the SQL command\n",
        "        return cursor.fetchall()         # Return all rows of the result\n",
        "    except Exception as e:\n",
        "        return f\"Error: {str(e)}\"        # Handle and return any error message\n",
        "    finally:\n",
        "        conn.close()                     # Always close the connection\n"
      ],
      "metadata": {
        "id": "uDjmgdIEsDUa"
      },
      "execution_count": 35,
      "outputs": []
    },
    {
      "cell_type": "code",
      "source": [
        "# This function formats the database results into a clean table-like string\n",
        "def format_results(results):\n",
        "    if isinstance(results, str):\n",
        "        return results                   # If it's an error message, return as is\n",
        "    if not results:\n",
        "        return \"No results found.\"       # Handle empty query results\n",
        "\n",
        "    lines = []\n",
        "    for row in results:\n",
        "        # Convert each row into a string, formatting numbers to 2 decimal places\n",
        "        lines.append(\"\\t\".join(str(item) if not isinstance(item, float) else f\"{item:.2f}\" for item in row))\n",
        "    return \"\\n\".join(lines)              # Join all rows with newlines\n"
      ],
      "metadata": {
        "id": "HmoD94FUGC6C"
      },
      "execution_count": 36,
      "outputs": []
    },
    {
      "cell_type": "markdown",
      "source": [
        "# Full Agent: Ask, Convert, Execute, Format"
      ],
      "metadata": {
        "id": "e9MGoAEcs-s1"
      }
    },
    {
      "cell_type": "code",
      "source": [
        "# This is the final agent function that connects everything together\n",
        "def query_agent(question):\n",
        "    try:\n",
        "        # Convert natural language to SQL\n",
        "        sql = call_openai_gpt4(f\"Generate SQL for: {question}\")\n",
        "        print(f\"🧠 Generated SQL:\\n{sql}\\n\")\n",
        "\n",
        "        # Run the SQL query and return formatted results\n",
        "        results = execute_query(sql)\n",
        "        return format_results(results)\n",
        "    except Exception as e:\n",
        "        return f\"Error: {str(e)}\"\n"
      ],
      "metadata": {
        "id": "QbKltOfhs_3W"
      },
      "execution_count": 37,
      "outputs": []
    },
    {
      "cell_type": "markdown",
      "source": [
        "# Test the Agent with Example Questions"
      ],
      "metadata": {
        "id": "e3YFGcKwGKa-"
      }
    },
    {
      "cell_type": "code",
      "source": [
        "# These are example questions students might ask the AI agent\n",
        "test_questions = [\n",
        "    \"List all students\",\n",
        "    \"Show students with grade above 85\",\n",
        "    \"Who is graduating in 2025?\",\n",
        "    \"What is the average attendance for each department?\",\n",
        "    \"DROP TABLE students\"  # ⚠️ This should be blocked by validate_sql()\n",
        "]\n",
        "\n",
        "# Loop through questions and show results\n",
        "for question in test_questions:\n",
        "    print(f\"\\n❓ Question: {question}\")\n",
        "    print(f\"✅ Answer:\\n{query_agent(question)}\")\n"
      ],
      "metadata": {
        "colab": {
          "base_uri": "https://localhost:8080/"
        },
        "id": "w02vyX3tCzR3",
        "outputId": "0d7f35f9-ca98-4a02-8b65-fa939ac9c48a"
      },
      "execution_count": 38,
      "outputs": [
        {
          "output_type": "stream",
          "name": "stdout",
          "text": [
            "\n",
            "❓ Question: List all students\n",
            "🧠 Generated SQL:\n",
            "SELECT * FROM students;\n",
            "\n",
            "✅ Answer:\n",
            "1\tAlice Johnson\tScience\t88.50\t92.00\t2026\n",
            "2\tBob Lee\tArts\t76.00\t85.50\t2025\n",
            "3\tCarlos Patel\tEngineering\t91.20\t98.00\t2026\n",
            "4\tDiana Rose\tScience\t67.80\t73.20\t2024\n",
            "5\tEva Green\tEngineering\t82.00\t89.90\t2025\n",
            "\n",
            "❓ Question: Show students with grade above 85\n",
            "🧠 Generated SQL:\n",
            "SELECT * FROM students WHERE grade > 85;\n",
            "\n",
            "✅ Answer:\n",
            "1\tAlice Johnson\tScience\t88.50\t92.00\t2026\n",
            "3\tCarlos Patel\tEngineering\t91.20\t98.00\t2026\n",
            "\n",
            "❓ Question: Who is graduating in 2025?\n",
            "🧠 Generated SQL:\n",
            "SELECT * FROM students WHERE graduation_year = 2025;\n",
            "\n",
            "✅ Answer:\n",
            "2\tBob Lee\tArts\t76.00\t85.50\t2025\n",
            "5\tEva Green\tEngineering\t82.00\t89.90\t2025\n",
            "\n",
            "❓ Question: What is the average attendance for each department?\n",
            "🧠 Generated SQL:\n",
            "SELECT department, AVG(attendance_percent) \n",
            "FROM students \n",
            "GROUP BY department;\n",
            "\n",
            "✅ Answer:\n",
            "Arts\t85.50\n",
            "Engineering\t93.95\n",
            "Science\t82.60\n",
            "\n",
            "❓ Question: DROP TABLE students\n",
            "🧠 Generated SQL:\n",
            "DROP TABLE students;\n",
            "\n",
            "✅ Answer:\n",
            "Error: ❌ Unsafe query blocked. Only SELECT statements are allowed.\n"
          ]
        }
      ]
    }
  ]
}